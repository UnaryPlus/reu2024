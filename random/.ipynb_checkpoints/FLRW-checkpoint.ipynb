{
 "cells": [
  {
   "cell_type": "code",
   "execution_count": 1,
   "id": "5302cc5c-5325-43b3-8a3f-586c3768f92e",
   "metadata": {
    "vscode": {
     "languageId": "sage"
    }
   },
   "outputs": [],
   "source": [
    "load('FLRW.sage')"
   ]
  },
  {
   "cell_type": "code",
   "execution_count": 2,
   "id": "629eb323-fba3-4cc5-b35f-4c46a075f3d0",
   "metadata": {
    "vscode": {
     "languageId": "sage"
    }
   },
   "outputs": [
    {
     "data": {
      "text/plain": [
       "4-dimensional Lorentzian manifold M"
      ]
     },
     "execution_count": 2,
     "metadata": {},
     "output_type": "execute_result"
    }
   ],
   "source": [
    "M"
   ]
  },
  {
   "cell_type": "code",
   "execution_count": 4,
   "id": "2997878a-4c83-4320-bdca-c76325017909",
   "metadata": {
    "vscode": {
     "languageId": "sage"
    }
   },
   "outputs": [
    {
     "data": {
      "text/plain": [
       "Lorentzian metric g on the 4-dimensional Lorentzian manifold M"
      ]
     },
     "execution_count": 4,
     "metadata": {},
     "output_type": "execute_result"
    }
   ],
   "source": [
    "g"
   ]
  },
  {
   "cell_type": "code",
   "execution_count": 2,
   "id": "0929e635-0b02-4a22-9421-93a6fbbfe52e",
   "metadata": {
    "vscode": {
     "languageId": "sage"
    }
   },
   "outputs": [
    {
     "data": {
      "text/plain": [
       "4-dimensional Lorentzian manifold M"
      ]
     },
     "execution_count": 2,
     "metadata": {},
     "output_type": "execute_result"
    }
   ],
   "source": [
    "M"
   ]
  }
 ],
 "metadata": {
  "kernelspec": {
   "display_name": "SageMath 10.3",
   "language": "sage",
   "name": "SageMath-10.3"
  },
  "language_info": {
   "codemirror_mode": {
    "name": "ipython",
    "version": 3
   },
   "file_extension": ".py",
   "mimetype": "text/x-python",
   "name": "python",
   "nbconvert_exporter": "python",
   "pygments_lexer": "ipython3",
   "version": "3.11.8"
  }
 },
 "nbformat": 4,
 "nbformat_minor": 5
}
