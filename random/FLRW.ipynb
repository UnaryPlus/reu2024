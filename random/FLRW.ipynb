{
 "cells": [
  {
   "cell_type": "code",
   "execution_count": 16,
   "id": "db39810f-9c51-4904-895a-de4c54b89c38",
   "metadata": {},
   "outputs": [],
   "source": [
    "load('FLRW.sage')"
   ]
  },
  {
   "cell_type": "code",
   "execution_count": 17,
   "id": "50a047eb-1e98-4fa1-bbec-cec1b032935f",
   "metadata": {},
   "outputs": [],
   "source": [
    "%display latex"
   ]
  },
  {
   "cell_type": "code",
   "execution_count": 18,
   "id": "0a531316-1874-4a96-8a76-781da90a7926",
   "metadata": {},
   "outputs": [
    {
     "data": {
      "text/html": [
       "<html>\\(\\displaystyle \\left(x_{0}, r, {\\theta}, {\\phi}\\right) \\mapsto \\frac{3 \\, {\\left(c^{2} k + \\left(\\frac{\\partial\\,a}{\\partial \\left( \\frac{x_{0}}{c} \\right)}\\right)^{2}\\right)}}{c^{2} a\\left(\\frac{x_{0}}{c}\\right)^{2}}\\)</html>"
      ],
      "text/latex": [
       "$\\displaystyle \\left(x_{0}, r, {\\theta}, {\\phi}\\right) \\mapsto \\frac{3 \\, {\\left(c^{2} k + \\left(\\frac{\\partial\\,a}{\\partial \\left( \\frac{x_{0}}{c} \\right)}\\right)^{2}\\right)}}{c^{2} a\\left(\\frac{x_{0}}{c}\\right)^{2}}$"
      ],
      "text/plain": [
       "(x0, r, th, ph) ↦ 3*(c^2*k + (d(a)/d(x0/c))^2)/(c^2*a(x0/c)^2)"
      ]
     },
     "execution_count": 18,
     "metadata": {},
     "output_type": "execute_result"
    }
   ],
   "source": [
    "LHS[0,0].display()"
   ]
  },
  {
   "cell_type": "code",
   "execution_count": 19,
   "id": "2759f109-070c-4a5b-ae74-e974d74f6051",
   "metadata": {},
   "outputs": [
    {
     "data": {
      "text/html": [
       "<html>\\(\\displaystyle \\left(x_{0}, r, {\\theta}, {\\phi}\\right) \\mapsto \\frac{{\\Lambda} c^{2} + 8 \\, \\pi G {\\rho}}{c^{2}}\\)</html>"
      ],
      "text/latex": [
       "$\\displaystyle \\left(x_{0}, r, {\\theta}, {\\phi}\\right) \\mapsto \\frac{{\\Lambda} c^{2} + 8 \\, \\pi G {\\rho}}{c^{2}}$"
      ],
      "text/plain": [
       "(x0, r, th, ph) ↦ (Lam*c^2 + 8*pi*G*rho)/c^2"
      ]
     },
     "execution_count": 19,
     "metadata": {},
     "output_type": "execute_result"
    }
   ],
   "source": [
    "RHS[0,0].display()"
   ]
  },
  {
   "cell_type": "code",
   "execution_count": 20,
   "id": "f8df0aa1-19eb-4334-9abc-f5e9a5bc498c",
   "metadata": {},
   "outputs": [
    {
     "data": {
      "text/html": [
       "<html>\\(\\displaystyle \\begin{array}{llcl} & M & \\longrightarrow & \\mathbb{R} \\\\ & \\left(x_{0}, r, {\\theta}, {\\phi}\\right) & \\longmapsto & -\\frac{6 \\, {\\left(c^{2} k + \\left(\\frac{\\partial\\,a}{\\partial \\left( \\frac{x_{0}}{c} \\right)}\\right)^{2} + a\\left(\\frac{x_{0}}{c}\\right) \\frac{\\partial^2\\,a}{\\partial \\left( \\frac{x_{0}}{c} \\right) ^ 2}\\right)}}{c^{2} a\\left(\\frac{x_{0}}{c}\\right)^{2}} \\end{array}\\)</html>"
      ],
      "text/latex": [
       "$\\displaystyle \\begin{array}{llcl} & M & \\longrightarrow & \\mathbb{R} \\\\ & \\left(x_{0}, r, {\\theta}, {\\phi}\\right) & \\longmapsto & -\\frac{6 \\, {\\left(c^{2} k + \\left(\\frac{\\partial\\,a}{\\partial \\left( \\frac{x_{0}}{c} \\right)}\\right)^{2} + a\\left(\\frac{x_{0}}{c}\\right) \\frac{\\partial^2\\,a}{\\partial \\left( \\frac{x_{0}}{c} \\right) ^ 2}\\right)}}{c^{2} a\\left(\\frac{x_{0}}{c}\\right)^{2}} \\end{array}$"
      ],
      "text/plain": [
       "M → ℝ\n",
       "(x0, r, th, ph) ↦ -6*(c^2*k + (d(a)/d(x0/c))^2 + a(x0/c)*d^2(a)/d(x0/c)^2)/(c^2*a(x0/c)^2)"
      ]
     },
     "execution_count": 20,
     "metadata": {},
     "output_type": "execute_result"
    }
   ],
   "source": [
    "LHS_trace.display()"
   ]
  },
  {
   "cell_type": "code",
   "execution_count": 21,
   "id": "85c23a69-85a8-4cf1-940d-b99e7d707ee6",
   "metadata": {},
   "outputs": [
    {
     "data": {
      "text/html": [
       "<html>\\(\\displaystyle \\begin{array}{llcl} & M & \\longrightarrow & \\mathbb{R} \\\\ & \\left(x_{0}, r, {\\theta}, {\\phi}\\right) & \\longmapsto & -\\frac{4 \\, {\\left({\\Lambda} c^{4} + 2 \\, \\pi G c^{2} {\\rho} - 6 \\, \\pi G q\\right)}}{c^{4}} \\end{array}\\)</html>"
      ],
      "text/latex": [
       "$\\displaystyle \\begin{array}{llcl} & M & \\longrightarrow & \\mathbb{R} \\\\ & \\left(x_{0}, r, {\\theta}, {\\phi}\\right) & \\longmapsto & -\\frac{4 \\, {\\left({\\Lambda} c^{4} + 2 \\, \\pi G c^{2} {\\rho} - 6 \\, \\pi G q\\right)}}{c^{4}} \\end{array}$"
      ],
      "text/plain": [
       "M → ℝ\n",
       "(x0, r, th, ph) ↦ -4*(Lam*c^4 + 2*pi*G*c^2*rho - 6*pi*G*q)/c^4"
      ]
     },
     "execution_count": 21,
     "metadata": {},
     "output_type": "execute_result"
    }
   ],
   "source": [
    "RHS_trace.display()"
   ]
  },
  {
   "cell_type": "code",
   "execution_count": null,
   "id": "35f4c310-c044-4988-87bd-ddaf590a2797",
   "metadata": {},
   "outputs": [],
   "source": []
  }
 ],
 "metadata": {
  "kernelspec": {
   "display_name": "SageMath 10.3",
   "language": "sage",
   "name": "sagemath-10.3"
  },
  "language_info": {
   "codemirror_mode": {
    "name": "ipython",
    "version": 3
   },
   "file_extension": ".py",
   "mimetype": "text/x-python",
   "name": "python",
   "nbconvert_exporter": "python",
   "pygments_lexer": "ipython3",
   "version": "3.11.8"
  }
 },
 "nbformat": 4,
 "nbformat_minor": 5
}
